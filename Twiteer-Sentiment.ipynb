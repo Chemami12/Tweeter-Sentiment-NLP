{
 "cells": [
  {
   "cell_type": "markdown",
   "metadata": {},
   "source": [
    "TWEETER SENTIMENT"
   ]
  },
  {
   "cell_type": "markdown",
   "metadata": {},
   "source": [
    "1. BUSINESS UNDERSTANDING\n",
    "   \n",
    "   OVERVIEW\n",
    "\n",
    "Chemami Ent. is a platform that focuses on analyzing customer feedbacks on products by various brands. this gives an opportunity to brands to learn what makes customers happy or un unhappy about their products, so that they can tailor products to meet their customers' needs.\n",
    "Apple offers a diverse range of products, including hardware devices, software and services that are diverse.Their products range from the iconic iPhone and Mac computers to wearables like the Apple watch and a suite of services that are convinient. This has made Apple company to be a global technology leder, synonymous with innovation, design, excellence and pushing boundaries in the world of consumer electronics."
   ]
  },
  {
   "cell_type": "code",
   "execution_count": 48,
   "metadata": {},
   "outputs": [
    {
     "name": "stdout",
     "output_type": "stream",
     "text": [
      "Requirement already satisfied: nltk in c:\\users\\margaret mitey\\anaconda3\\lib\\site-packages (3.7)\n",
      "Requirement already satisfied: tqdm in c:\\users\\margaret mitey\\anaconda3\\lib\\site-packages (from nltk) (4.64.1)\n",
      "Requirement already satisfied: regex>=2021.8.3 in c:\\users\\margaret mitey\\anaconda3\\lib\\site-packages (from nltk) (2022.7.9)\n",
      "Requirement already satisfied: joblib in c:\\users\\margaret mitey\\anaconda3\\lib\\site-packages (from nltk) (1.3.1)\n",
      "Requirement already satisfied: click in c:\\users\\margaret mitey\\anaconda3\\lib\\site-packages (from nltk) (8.0.4)\n",
      "Requirement already satisfied: colorama in c:\\users\\margaret mitey\\anaconda3\\lib\\site-packages (from click->nltk) (0.4.5)\n"
     ]
    }
   ],
   "source": [
    "!pip install nltk\n",
    "# import important modules\n",
    "import numpy as np\n",
    "import pandas as pd\n",
    "import matplotlib.pyplot as plt\n",
    "import seaborn as sns\n",
    "\n",
    "plt.style.use('ggplot')\n",
    "\n",
    "import nltk"
   ]
  },
  {
   "cell_type": "code",
   "execution_count": 65,
   "metadata": {},
   "outputs": [],
   "source": [
    "df = pd.read_csv(r'c:\\Users\\Margaret Mitey\\OneDrive\\Documents\\judge_1377884607_tweet_product_company.csv')"
   ]
  },
  {
   "cell_type": "code",
   "execution_count": 66,
   "metadata": {},
   "outputs": [
    {
     "data": {
      "text/html": [
       "<div>\n",
       "<style scoped>\n",
       "    .dataframe tbody tr th:only-of-type {\n",
       "        vertical-align: middle;\n",
       "    }\n",
       "\n",
       "    .dataframe tbody tr th {\n",
       "        vertical-align: top;\n",
       "    }\n",
       "\n",
       "    .dataframe thead th {\n",
       "        text-align: right;\n",
       "    }\n",
       "</style>\n",
       "<table border=\"1\" class=\"dataframe\">\n",
       "  <thead>\n",
       "    <tr style=\"text-align: right;\">\n",
       "      <th></th>\n",
       "      <th>tweet_text</th>\n",
       "      <th>emotion_in_tweet_is_directed_at</th>\n",
       "      <th>is_there_an_emotion_directed_at_a_brand_or_product</th>\n",
       "    </tr>\n",
       "  </thead>\n",
       "  <tbody>\n",
       "    <tr>\n",
       "      <th>0</th>\n",
       "      <td>.@wesley83 I have a 3G iPhone. After 3 hrs twe...</td>\n",
       "      <td>iPhone</td>\n",
       "      <td>Negative emotion</td>\n",
       "    </tr>\n",
       "    <tr>\n",
       "      <th>1</th>\n",
       "      <td>@jessedee Know about @fludapp ? Awesome iPad/i...</td>\n",
       "      <td>iPad or iPhone App</td>\n",
       "      <td>Positive emotion</td>\n",
       "    </tr>\n",
       "    <tr>\n",
       "      <th>2</th>\n",
       "      <td>@swonderlin Can not wait for #iPad 2 also. The...</td>\n",
       "      <td>iPad</td>\n",
       "      <td>Positive emotion</td>\n",
       "    </tr>\n",
       "    <tr>\n",
       "      <th>3</th>\n",
       "      <td>@sxsw I hope this year's festival isn't as cra...</td>\n",
       "      <td>iPad or iPhone App</td>\n",
       "      <td>Negative emotion</td>\n",
       "    </tr>\n",
       "    <tr>\n",
       "      <th>4</th>\n",
       "      <td>@sxtxstate great stuff on Fri #SXSW: Marissa M...</td>\n",
       "      <td>Google</td>\n",
       "      <td>Positive emotion</td>\n",
       "    </tr>\n",
       "    <tr>\n",
       "      <th>5</th>\n",
       "      <td>@teachntech00 New iPad Apps For #SpeechTherapy...</td>\n",
       "      <td>NaN</td>\n",
       "      <td>No emotion toward brand or product</td>\n",
       "    </tr>\n",
       "    <tr>\n",
       "      <th>6</th>\n",
       "      <td>NaN</td>\n",
       "      <td>NaN</td>\n",
       "      <td>No emotion toward brand or product</td>\n",
       "    </tr>\n",
       "    <tr>\n",
       "      <th>7</th>\n",
       "      <td>#SXSW is just starting, #CTIA is around the co...</td>\n",
       "      <td>Android</td>\n",
       "      <td>Positive emotion</td>\n",
       "    </tr>\n",
       "    <tr>\n",
       "      <th>8</th>\n",
       "      <td>Beautifully smart and simple idea RT @madebyma...</td>\n",
       "      <td>iPad or iPhone App</td>\n",
       "      <td>Positive emotion</td>\n",
       "    </tr>\n",
       "    <tr>\n",
       "      <th>9</th>\n",
       "      <td>Counting down the days to #sxsw plus strong Ca...</td>\n",
       "      <td>Apple</td>\n",
       "      <td>Positive emotion</td>\n",
       "    </tr>\n",
       "  </tbody>\n",
       "</table>\n",
       "</div>"
      ],
      "text/plain": [
       "                                          tweet_text  \\\n",
       "0  .@wesley83 I have a 3G iPhone. After 3 hrs twe...   \n",
       "1  @jessedee Know about @fludapp ? Awesome iPad/i...   \n",
       "2  @swonderlin Can not wait for #iPad 2 also. The...   \n",
       "3  @sxsw I hope this year's festival isn't as cra...   \n",
       "4  @sxtxstate great stuff on Fri #SXSW: Marissa M...   \n",
       "5  @teachntech00 New iPad Apps For #SpeechTherapy...   \n",
       "6                                                NaN   \n",
       "7  #SXSW is just starting, #CTIA is around the co...   \n",
       "8  Beautifully smart and simple idea RT @madebyma...   \n",
       "9  Counting down the days to #sxsw plus strong Ca...   \n",
       "\n",
       "  emotion_in_tweet_is_directed_at  \\\n",
       "0                          iPhone   \n",
       "1              iPad or iPhone App   \n",
       "2                            iPad   \n",
       "3              iPad or iPhone App   \n",
       "4                          Google   \n",
       "5                             NaN   \n",
       "6                             NaN   \n",
       "7                         Android   \n",
       "8              iPad or iPhone App   \n",
       "9                           Apple   \n",
       "\n",
       "  is_there_an_emotion_directed_at_a_brand_or_product  \n",
       "0                                   Negative emotion  \n",
       "1                                   Positive emotion  \n",
       "2                                   Positive emotion  \n",
       "3                                   Negative emotion  \n",
       "4                                   Positive emotion  \n",
       "5                 No emotion toward brand or product  \n",
       "6                 No emotion toward brand or product  \n",
       "7                                   Positive emotion  \n",
       "8                                   Positive emotion  \n",
       "9                                   Positive emotion  "
      ]
     },
     "execution_count": 66,
     "metadata": {},
     "output_type": "execute_result"
    }
   ],
   "source": [
    "df.head(10)"
   ]
  },
  {
   "cell_type": "code",
   "execution_count": 67,
   "metadata": {},
   "outputs": [
    {
     "data": {
      "text/plain": [
       "(8721, 3)"
      ]
     },
     "execution_count": 67,
     "metadata": {},
     "output_type": "execute_result"
    }
   ],
   "source": [
    "df.shape"
   ]
  },
  {
   "cell_type": "code",
   "execution_count": 68,
   "metadata": {},
   "outputs": [
    {
     "data": {
      "text/plain": [
       "Index(['tweet_text', 'emotion_in_tweet_is_directed_at',\n",
       "       'is_there_an_emotion_directed_at_a_brand_or_product'],\n",
       "      dtype='object')"
      ]
     },
     "execution_count": 68,
     "metadata": {},
     "output_type": "execute_result"
    }
   ],
   "source": [
    "df.columns"
   ]
  },
  {
   "cell_type": "code",
   "execution_count": 69,
   "metadata": {},
   "outputs": [
    {
     "data": {
      "text/html": [
       "<div>\n",
       "<style scoped>\n",
       "    .dataframe tbody tr th:only-of-type {\n",
       "        vertical-align: middle;\n",
       "    }\n",
       "\n",
       "    .dataframe tbody tr th {\n",
       "        vertical-align: top;\n",
       "    }\n",
       "\n",
       "    .dataframe thead th {\n",
       "        text-align: right;\n",
       "    }\n",
       "</style>\n",
       "<table border=\"1\" class=\"dataframe\">\n",
       "  <thead>\n",
       "    <tr style=\"text-align: right;\">\n",
       "      <th></th>\n",
       "      <th>Tweet</th>\n",
       "      <th>Product</th>\n",
       "      <th>Sentiment</th>\n",
       "    </tr>\n",
       "  </thead>\n",
       "  <tbody>\n",
       "    <tr>\n",
       "      <th>0</th>\n",
       "      <td>.@wesley83 I have a 3G iPhone. After 3 hrs twe...</td>\n",
       "      <td>iPhone</td>\n",
       "      <td>Negative emotion</td>\n",
       "    </tr>\n",
       "    <tr>\n",
       "      <th>1</th>\n",
       "      <td>@jessedee Know about @fludapp ? Awesome iPad/i...</td>\n",
       "      <td>iPad or iPhone App</td>\n",
       "      <td>Positive emotion</td>\n",
       "    </tr>\n",
       "    <tr>\n",
       "      <th>2</th>\n",
       "      <td>@swonderlin Can not wait for #iPad 2 also. The...</td>\n",
       "      <td>iPad</td>\n",
       "      <td>Positive emotion</td>\n",
       "    </tr>\n",
       "    <tr>\n",
       "      <th>3</th>\n",
       "      <td>@sxsw I hope this year's festival isn't as cra...</td>\n",
       "      <td>iPad or iPhone App</td>\n",
       "      <td>Negative emotion</td>\n",
       "    </tr>\n",
       "    <tr>\n",
       "      <th>4</th>\n",
       "      <td>@sxtxstate great stuff on Fri #SXSW: Marissa M...</td>\n",
       "      <td>Google</td>\n",
       "      <td>Positive emotion</td>\n",
       "    </tr>\n",
       "  </tbody>\n",
       "</table>\n",
       "</div>"
      ],
      "text/plain": [
       "                                               Tweet             Product  \\\n",
       "0  .@wesley83 I have a 3G iPhone. After 3 hrs twe...              iPhone   \n",
       "1  @jessedee Know about @fludapp ? Awesome iPad/i...  iPad or iPhone App   \n",
       "2  @swonderlin Can not wait for #iPad 2 also. The...                iPad   \n",
       "3  @sxsw I hope this year's festival isn't as cra...  iPad or iPhone App   \n",
       "4  @sxtxstate great stuff on Fri #SXSW: Marissa M...              Google   \n",
       "\n",
       "          Sentiment  \n",
       "0  Negative emotion  \n",
       "1  Positive emotion  \n",
       "2  Positive emotion  \n",
       "3  Negative emotion  \n",
       "4  Positive emotion  "
      ]
     },
     "execution_count": 69,
     "metadata": {},
     "output_type": "execute_result"
    }
   ],
   "source": [
    "#Renaming the columns\n",
    "df = df.rename(columns = {'tweet_text': 'Tweet', \n",
    "                         'emotion_in_tweet_is_directed_at': 'Product', \n",
    "                         'is_there_an_emotion_directed_at_a_brand_or_product': 'Sentiment'})\n",
    "df.head()"
   ]
  },
  {
   "cell_type": "code",
   "execution_count": 70,
   "metadata": {},
   "outputs": [],
   "source": [
    "#Simplify sentiment labels \n",
    "dict_sent = {'No emotion toward brand or product':\"No emotion\", \n",
    "             'Positive emotion':'Positive emotion',\n",
    "             'Negative emotion':'Negative emotion',\n",
    "             \"I can't tell\": \"I can't tell\"}\n",
    "df['Sentiment'] = df['Sentiment'].map(dict_sent)"
   ]
  },
  {
   "cell_type": "code",
   "execution_count": 71,
   "metadata": {},
   "outputs": [
    {
     "data": {
      "text/plain": [
       "No emotion          5156\n",
       "Positive emotion    2869\n",
       "Negative emotion     545\n",
       "I can't tell         151\n",
       "Name: Sentiment, dtype: int64"
      ]
     },
     "execution_count": 71,
     "metadata": {},
     "output_type": "execute_result"
    }
   ],
   "source": [
    "df[\"Sentiment\"].value_counts()"
   ]
  },
  {
   "cell_type": "code",
   "execution_count": 75,
   "metadata": {},
   "outputs": [
    {
     "data": {
      "text/plain": [
       "Tweet           1\n",
       "Product      5552\n",
       "Sentiment       0\n",
       "dtype: int64"
      ]
     },
     "execution_count": 75,
     "metadata": {},
     "output_type": "execute_result"
    }
   ],
   "source": [
    "# check missing values in data\n",
    "df.isnull().sum()"
   ]
  },
  {
   "cell_type": "code",
   "execution_count": 76,
   "metadata": {},
   "outputs": [
    {
     "name": "stdout",
     "output_type": "stream",
     "text": [
      "iPad                               910\n",
      "Apple                              640\n",
      "iPad or iPhone App                 451\n",
      "Google                             412\n",
      "iPhone                             288\n",
      "Other Google product or service    282\n",
      "Android App                         78\n",
      "Android                             74\n",
      "Other Apple product or service      34\n",
      "Name: Product, dtype: int64\n",
      "----------------------------------------\n",
      "No emotion          5156\n",
      "Positive emotion    2869\n",
      "Negative emotion     545\n",
      "I can't tell         151\n",
      "Name: Sentiment, dtype: int64\n"
     ]
    }
   ],
   "source": [
    "# Print the value count of product and sentiment column\n",
    "print(df['Product'].value_counts())\n",
    "print((\"-\"*40))\n",
    "print(df['Sentiment'].value_counts())"
   ]
  },
  {
   "cell_type": "code",
   "execution_count": 77,
   "metadata": {},
   "outputs": [
    {
     "name": "stdout",
     "output_type": "stream",
     "text": [
      "Total duplicated rows\n",
      "22\n",
      "----------------------------------------\n",
      "Total null values\n",
      "Tweet           1\n",
      "Product      5552\n",
      "Sentiment       0\n",
      "dtype: int64\n"
     ]
    }
   ],
   "source": [
    "# Check for duplicated rows\n",
    "print('Total duplicated rows')\n",
    "print(df.duplicated().sum())\n",
    "print((\"-\"*40))\n",
    "\n",
    "# Check for null values\n",
    "print('Total null values')\n",
    "print(df.isna().sum())"
   ]
  },
  {
   "cell_type": "code",
   "execution_count": 78,
   "metadata": {},
   "outputs": [
    {
     "data": {
      "text/html": [
       "<div>\n",
       "<style scoped>\n",
       "    .dataframe tbody tr th:only-of-type {\n",
       "        vertical-align: middle;\n",
       "    }\n",
       "\n",
       "    .dataframe tbody tr th {\n",
       "        vertical-align: top;\n",
       "    }\n",
       "\n",
       "    .dataframe thead th {\n",
       "        text-align: right;\n",
       "    }\n",
       "</style>\n",
       "<table border=\"1\" class=\"dataframe\">\n",
       "  <thead>\n",
       "    <tr style=\"text-align: right;\">\n",
       "      <th></th>\n",
       "      <th>Tweet</th>\n",
       "      <th>Product</th>\n",
       "      <th>Sentiment</th>\n",
       "    </tr>\n",
       "  </thead>\n",
       "  <tbody>\n",
       "    <tr>\n",
       "      <th>0</th>\n",
       "      <td>.@wesley83 I have a 3G iPhone. After 3 hrs twe...</td>\n",
       "      <td>iPhone</td>\n",
       "      <td>Negative emotion</td>\n",
       "    </tr>\n",
       "    <tr>\n",
       "      <th>1</th>\n",
       "      <td>@jessedee Know about @fludapp ? Awesome iPad/i...</td>\n",
       "      <td>iPad or iPhone App</td>\n",
       "      <td>Positive emotion</td>\n",
       "    </tr>\n",
       "    <tr>\n",
       "      <th>2</th>\n",
       "      <td>@swonderlin Can not wait for #iPad 2 also. The...</td>\n",
       "      <td>iPad</td>\n",
       "      <td>Positive emotion</td>\n",
       "    </tr>\n",
       "    <tr>\n",
       "      <th>3</th>\n",
       "      <td>@sxsw I hope this year's festival isn't as cra...</td>\n",
       "      <td>iPad or iPhone App</td>\n",
       "      <td>Negative emotion</td>\n",
       "    </tr>\n",
       "    <tr>\n",
       "      <th>4</th>\n",
       "      <td>@sxtxstate great stuff on Fri #SXSW: Marissa M...</td>\n",
       "      <td>Google</td>\n",
       "      <td>Positive emotion</td>\n",
       "    </tr>\n",
       "    <tr>\n",
       "      <th>...</th>\n",
       "      <td>...</td>\n",
       "      <td>...</td>\n",
       "      <td>...</td>\n",
       "    </tr>\n",
       "    <tr>\n",
       "      <th>8716</th>\n",
       "      <td>Ipad everywhere. #SXSW {link}</td>\n",
       "      <td>iPad</td>\n",
       "      <td>Positive emotion</td>\n",
       "    </tr>\n",
       "    <tr>\n",
       "      <th>8717</th>\n",
       "      <td>Wave, buzz... RT @mention We interrupt your re...</td>\n",
       "      <td>NaN</td>\n",
       "      <td>No emotion</td>\n",
       "    </tr>\n",
       "    <tr>\n",
       "      <th>8718</th>\n",
       "      <td>Google's Zeiger, a physician never reported po...</td>\n",
       "      <td>NaN</td>\n",
       "      <td>No emotion</td>\n",
       "    </tr>\n",
       "    <tr>\n",
       "      <th>8719</th>\n",
       "      <td>Some Verizon iPhone customers complained their...</td>\n",
       "      <td>NaN</td>\n",
       "      <td>No emotion</td>\n",
       "    </tr>\n",
       "    <tr>\n",
       "      <th>8720</th>\n",
       "      <td>�ϡ�����_��ʋ�΋�ҋ�������⋁_��������_���RT @mentio...</td>\n",
       "      <td>NaN</td>\n",
       "      <td>No emotion</td>\n",
       "    </tr>\n",
       "  </tbody>\n",
       "</table>\n",
       "<p>8699 rows × 3 columns</p>\n",
       "</div>"
      ],
      "text/plain": [
       "                                                  Tweet             Product  \\\n",
       "0     .@wesley83 I have a 3G iPhone. After 3 hrs twe...              iPhone   \n",
       "1     @jessedee Know about @fludapp ? Awesome iPad/i...  iPad or iPhone App   \n",
       "2     @swonderlin Can not wait for #iPad 2 also. The...                iPad   \n",
       "3     @sxsw I hope this year's festival isn't as cra...  iPad or iPhone App   \n",
       "4     @sxtxstate great stuff on Fri #SXSW: Marissa M...              Google   \n",
       "...                                                 ...                 ...   \n",
       "8716                      Ipad everywhere. #SXSW {link}                iPad   \n",
       "8717  Wave, buzz... RT @mention We interrupt your re...                 NaN   \n",
       "8718  Google's Zeiger, a physician never reported po...                 NaN   \n",
       "8719  Some Verizon iPhone customers complained their...                 NaN   \n",
       "8720  �ϡ�����_��ʋ�΋�ҋ�������⋁_��������_���RT @mentio...                 NaN   \n",
       "\n",
       "             Sentiment  \n",
       "0     Negative emotion  \n",
       "1     Positive emotion  \n",
       "2     Positive emotion  \n",
       "3     Negative emotion  \n",
       "4     Positive emotion  \n",
       "...                ...  \n",
       "8716  Positive emotion  \n",
       "8717        No emotion  \n",
       "8718        No emotion  \n",
       "8719        No emotion  \n",
       "8720        No emotion  \n",
       "\n",
       "[8699 rows x 3 columns]"
      ]
     },
     "execution_count": 78,
     "metadata": {},
     "output_type": "execute_result"
    }
   ],
   "source": [
    "#Dropping duplicates\n",
    "df.drop_duplicates(inplace=True)\n",
    "df"
   ]
  },
  {
   "cell_type": "code",
   "execution_count": 79,
   "metadata": {},
   "outputs": [
    {
     "data": {
      "text/html": [
       "<div>\n",
       "<style scoped>\n",
       "    .dataframe tbody tr th:only-of-type {\n",
       "        vertical-align: middle;\n",
       "    }\n",
       "\n",
       "    .dataframe tbody tr th {\n",
       "        vertical-align: top;\n",
       "    }\n",
       "\n",
       "    .dataframe thead th {\n",
       "        text-align: right;\n",
       "    }\n",
       "</style>\n",
       "<table border=\"1\" class=\"dataframe\">\n",
       "  <thead>\n",
       "    <tr style=\"text-align: right;\">\n",
       "      <th></th>\n",
       "      <th>Tweet</th>\n",
       "      <th>Product</th>\n",
       "      <th>Sentiment</th>\n",
       "    </tr>\n",
       "  </thead>\n",
       "  <tbody>\n",
       "    <tr>\n",
       "      <th>0</th>\n",
       "      <td>.@wesley83 I have a 3G iPhone. After 3 hrs twe...</td>\n",
       "      <td>iPhone</td>\n",
       "      <td>Negative emotion</td>\n",
       "    </tr>\n",
       "    <tr>\n",
       "      <th>1</th>\n",
       "      <td>@jessedee Know about @fludapp ? Awesome iPad/i...</td>\n",
       "      <td>iPad or iPhone App</td>\n",
       "      <td>Positive emotion</td>\n",
       "    </tr>\n",
       "    <tr>\n",
       "      <th>2</th>\n",
       "      <td>@swonderlin Can not wait for #iPad 2 also. The...</td>\n",
       "      <td>iPad</td>\n",
       "      <td>Positive emotion</td>\n",
       "    </tr>\n",
       "    <tr>\n",
       "      <th>3</th>\n",
       "      <td>@sxsw I hope this year's festival isn't as cra...</td>\n",
       "      <td>iPad or iPhone App</td>\n",
       "      <td>Negative emotion</td>\n",
       "    </tr>\n",
       "    <tr>\n",
       "      <th>4</th>\n",
       "      <td>@sxtxstate great stuff on Fri #SXSW: Marissa M...</td>\n",
       "      <td>Google</td>\n",
       "      <td>Positive emotion</td>\n",
       "    </tr>\n",
       "    <tr>\n",
       "      <th>...</th>\n",
       "      <td>...</td>\n",
       "      <td>...</td>\n",
       "      <td>...</td>\n",
       "    </tr>\n",
       "    <tr>\n",
       "      <th>8716</th>\n",
       "      <td>Ipad everywhere. #SXSW {link}</td>\n",
       "      <td>iPad</td>\n",
       "      <td>Positive emotion</td>\n",
       "    </tr>\n",
       "    <tr>\n",
       "      <th>8717</th>\n",
       "      <td>Wave, buzz... RT @mention We interrupt your re...</td>\n",
       "      <td>Undefined</td>\n",
       "      <td>No emotion</td>\n",
       "    </tr>\n",
       "    <tr>\n",
       "      <th>8718</th>\n",
       "      <td>Google's Zeiger, a physician never reported po...</td>\n",
       "      <td>Undefined</td>\n",
       "      <td>No emotion</td>\n",
       "    </tr>\n",
       "    <tr>\n",
       "      <th>8719</th>\n",
       "      <td>Some Verizon iPhone customers complained their...</td>\n",
       "      <td>Undefined</td>\n",
       "      <td>No emotion</td>\n",
       "    </tr>\n",
       "    <tr>\n",
       "      <th>8720</th>\n",
       "      <td>�ϡ�����_��ʋ�΋�ҋ�������⋁_��������_���RT @mentio...</td>\n",
       "      <td>Undefined</td>\n",
       "      <td>No emotion</td>\n",
       "    </tr>\n",
       "  </tbody>\n",
       "</table>\n",
       "<p>8699 rows × 3 columns</p>\n",
       "</div>"
      ],
      "text/plain": [
       "                                                  Tweet             Product  \\\n",
       "0     .@wesley83 I have a 3G iPhone. After 3 hrs twe...              iPhone   \n",
       "1     @jessedee Know about @fludapp ? Awesome iPad/i...  iPad or iPhone App   \n",
       "2     @swonderlin Can not wait for #iPad 2 also. The...                iPad   \n",
       "3     @sxsw I hope this year's festival isn't as cra...  iPad or iPhone App   \n",
       "4     @sxtxstate great stuff on Fri #SXSW: Marissa M...              Google   \n",
       "...                                                 ...                 ...   \n",
       "8716                      Ipad everywhere. #SXSW {link}                iPad   \n",
       "8717  Wave, buzz... RT @mention We interrupt your re...           Undefined   \n",
       "8718  Google's Zeiger, a physician never reported po...           Undefined   \n",
       "8719  Some Verizon iPhone customers complained their...           Undefined   \n",
       "8720  �ϡ�����_��ʋ�΋�ҋ�������⋁_��������_���RT @mentio...           Undefined   \n",
       "\n",
       "             Sentiment  \n",
       "0     Negative emotion  \n",
       "1     Positive emotion  \n",
       "2     Positive emotion  \n",
       "3     Negative emotion  \n",
       "4     Positive emotion  \n",
       "...                ...  \n",
       "8716  Positive emotion  \n",
       "8717        No emotion  \n",
       "8718        No emotion  \n",
       "8719        No emotion  \n",
       "8720        No emotion  \n",
       "\n",
       "[8699 rows x 3 columns]"
      ]
     },
     "execution_count": 79,
     "metadata": {},
     "output_type": "execute_result"
    }
   ],
   "source": [
    "#Fills NaN's with \"Undefined\" to help with data visualizations\n",
    "df['Product'].fillna(\"Undefined\", inplace = True)\n",
    "df"
   ]
  },
  {
   "cell_type": "code",
   "execution_count": 80,
   "metadata": {},
   "outputs": [],
   "source": [
    "df = df[df['Sentiment'] != \"I can't tell\"]"
   ]
  },
  {
   "cell_type": "code",
   "execution_count": 81,
   "metadata": {},
   "outputs": [
    {
     "name": "stdout",
     "output_type": "stream",
     "text": [
      "Undefined                          5397\n",
      "iPad                                905\n",
      "Apple                               636\n",
      "iPad or iPhone App                  450\n",
      "Google                              409\n",
      "iPhone                              286\n",
      "Other Google product or service     281\n",
      "Android App                          77\n",
      "Android                              73\n",
      "Other Apple product or service       34\n",
      "Name: Product, dtype: int64\n",
      "----------------------------------------\n",
      "No emotion          5143\n",
      "Positive emotion    2861\n",
      "Negative emotion     544\n",
      "Name: Sentiment, dtype: int64\n"
     ]
    }
   ],
   "source": [
    "# Print the value count of product and sentiment column\n",
    "print(df['Product'].value_counts())\n",
    "print((\"-\"*40))\n",
    "print(df['Sentiment'].value_counts())"
   ]
  },
  {
   "cell_type": "code",
   "execution_count": 82,
   "metadata": {},
   "outputs": [
    {
     "name": "stderr",
     "output_type": "stream",
     "text": [
      "C:\\Users\\Margaret Mitey\\AppData\\Local\\Temp\\ipykernel_11196\\476698990.py:2: SettingWithCopyWarning: \n",
      "A value is trying to be set on a copy of a slice from a DataFrame\n",
      "\n",
      "See the caveats in the documentation: https://pandas.pydata.org/pandas-docs/stable/user_guide/indexing.html#returning-a-view-versus-a-copy\n",
      "  df[\"Product\"].fillna(\"none\", inplace = True)\n",
      "C:\\Users\\Margaret Mitey\\AppData\\Local\\Temp\\ipykernel_11196\\476698990.py:7: SettingWithCopyWarning: \n",
      "A value is trying to be set on a copy of a slice from a DataFrame\n",
      "\n",
      "See the caveats in the documentation: https://pandas.pydata.org/pandas-docs/stable/user_guide/indexing.html#returning-a-view-versus-a-copy\n",
      "  df.loc[apple_condition,'Product'] = \"Apple\"\n",
      "C:\\Users\\Margaret Mitey\\AppData\\Local\\Temp\\ipykernel_11196\\476698990.py:8: SettingWithCopyWarning: \n",
      "A value is trying to be set on a copy of a slice from a DataFrame\n",
      "\n",
      "See the caveats in the documentation: https://pandas.pydata.org/pandas-docs/stable/user_guide/indexing.html#returning-a-view-versus-a-copy\n",
      "  df.loc[google_condition, 'Product'] = \"Google\"\n"
     ]
    }
   ],
   "source": [
    "#Visual of sentiment distribution of products\n",
    "df[\"Product\"].fillna(\"none\", inplace = True)\n",
    "df_none = df.loc[df[\"Product\"] == 'none']\n",
    "\n",
    "apple_condition = (df['Product'] == \"iPad\") | (df['Product'] == \"iPad or iPhone App\") | (df['Product'] == \"iPhone\") | (df['Product'] == \"Other Apple product or service\")\n",
    "google_condition = (df['Product'] == \"Other Google product or service\") | (df['Product'] == \"Android App\") | (df['Product'] == \"Android\") \n",
    "df.loc[apple_condition,'Product'] = \"Apple\"\n",
    "df.loc[google_condition, 'Product'] = \"Google\"\n",
    "\n",
    "# apple loop\n",
    "for word in [\"Apple\",\"iphone\",\"apple\",\"ipad\",\"ipad2\",\"iPad 2\",\"iPhone\",\"iPad\"]:\n",
    "    temp_df = df_none[df_none['Tweet'].str.contains(word)]\n",
    "    temp_df['Product'].replace({'none': 'Apple'}, inplace=True)\n",
    "    df_none = temp_df.combine_first(df_none)\n",
    "# google loop\n",
    "for word in [\"Google\",\"google\",\"Android\",\"android\"]:\n",
    "    temp_df = df_none[df_none['Tweet'].str.contains(word)]\n",
    "    temp_df['Product'].replace({'none': 'Google'}, inplace=True)\n",
    "    df_none = temp_df.combine_first(df_none)\n",
    "df_1 = df_none.combine_first(df)\n"
   ]
  },
  {
   "cell_type": "code",
   "execution_count": 84,
   "metadata": {},
   "outputs": [],
   "source": [
    "df_1 = df_1[df_1['Product'] != \"none\"]\n",
    "df_1 = df_1[df_1['Sentiment'] != \"I can't tell\"]"
   ]
  },
  {
   "cell_type": "code",
   "execution_count": 86,
   "metadata": {},
   "outputs": [
    {
     "name": "stderr",
     "output_type": "stream",
     "text": [
      "c:\\Users\\Margaret Mitey\\anaconda3\\lib\\site-packages\\seaborn\\_decorators.py:36: FutureWarning: Pass the following variable as a keyword arg: x. From version 0.12, the only valid positional argument will be `data`, and passing other arguments without an explicit keyword will result in an error or misinterpretation.\n",
      "  warnings.warn(\n",
      "C:\\Users\\Margaret Mitey\\AppData\\Local\\Temp\\ipykernel_11196\\1429756318.py:5: UserWarning: FixedFormatter should only be used together with FixedLocator\n",
      "  ax.set_yticklabels([0,500,1000,1500,2000,2500], fontsize=18)\n"
     ]
    },
    {
     "data": {
      "image/png": "[encoded data removed]",
      "text/plain": [
       "<Figure size 1200x800 with 1 Axes>"
      ]
     },
     "metadata": {},
     "output_type": "display_data"
    }
   ],
   "source": [
    "labels = ['Negative emotion','No emotion','Positive emotion']\n",
    "fig, ax = plt.subplots(figsize=(12,8))\n",
    "ax = sns.countplot(df_1['Sentiment'], hue=df_1['Product'], palette='Accent')\n",
    "plt.title('Sentiment Distribution', fontsize=25)\n",
    "ax.set_yticklabels([0,500,1000,1500,2000,2500], fontsize=18)\n",
    "ax.set_xticklabels(labels, fontsize=18)\n",
    "plt.xlabel('Sentiment',fontsize=20)\n",
    "plt.ylabel('Number of tweet',fontsize=20)\n",
    "plt.legend(loc=2, prop={'size': 20})\n",
    "plt.show()"
   ]
  },
  {
   "cell_type": "code",
   "execution_count": 88,
   "metadata": {},
   "outputs": [
    {
     "name": "stderr",
     "output_type": "stream",
     "text": [
      "C:\\Users\\Margaret Mitey\\AppData\\Local\\Temp\\ipykernel_11196\\1120942615.py:17: SettingWithCopyWarning: \n",
      "A value is trying to be set on a copy of a slice from a DataFrame.\n",
      "Try using .loc[row_indexer,col_indexer] = value instead\n",
      "\n",
      "See the caveats in the documentation: https://pandas.pydata.org/pandas-docs/stable/user_guide/indexing.html#returning-a-view-versus-a-copy\n",
      "  df['Product'] = df.apply(lambda x: find_Product(x['Product'], x['Tweet']), axis=1)\n"
     ]
    },
    {
     "data": {
      "text/plain": [
       "Undefined    5397\n",
       "Apple        2311\n",
       "Google        840\n",
       "Name: Product, dtype: int64"
      ]
     },
     "execution_count": 88,
     "metadata": {},
     "output_type": "execute_result"
    }
   ],
   "source": [
    "import pandas as pd\n",
    "\n",
    "# Assuming you have a DataFrame named 'df' with columns 'Product' and 'Tweet'\n",
    "\n",
    "def find_Product(Product, Tweet):\n",
    "    if pd.notna(Product) and Product == 'Undetermined':\n",
    "        if pd.notna(Tweet):\n",
    "            lower_tweet = Tweet.lower()  # Make tweet lowercase\n",
    "            is_google = ('google' in lower_tweet) or ('android' in lower_tweet)  # Check for 'google' or 'android'\n",
    "            is_apple = ('apple' in lower_tweet) or ('ip' in lower_tweet)  # Check for 'apple' or 'ip'\n",
    "            if is_google:\n",
    "                return 'Google'\n",
    "            elif is_apple:\n",
    "                return 'Apple'\n",
    "    return Product\n",
    "\n",
    "df['Product'] = df.apply(lambda x: find_Product(x['Product'], x['Tweet']), axis=1)\n",
    "df['Product'].value_counts()  # Reviewing value counts of each class within 'Product'\n"
   ]
  },
  {
   "cell_type": "code",
   "execution_count": 89,
   "metadata": {},
   "outputs": [
    {
     "data": {
      "image/png": "[encoded data removed]",
      "text/plain": [
       "<Figure size 1200x800 with 1 Axes>"
      ]
     },
     "metadata": {},
     "output_type": "display_data"
    }
   ],
   "source": [
    "#countplot for Brand\n",
    "countplot(df, \"Product\")"
   ]
  },
  {
   "cell_type": "code",
   "execution_count": 90,
   "metadata": {},
   "outputs": [
    {
     "data": {
      "image/png": "[encoded data removed]",
      "text/plain": [
       "<Figure size 1200x800 with 1 Axes>"
      ]
     },
     "metadata": {},
     "output_type": "display_data"
    }
   ],
   "source": [
    "#count plot for Sentiment across brands\n",
    "countplot(df, \"Product\", hue = \"Sentiment\")"
   ]
  },
  {
   "cell_type": "markdown",
   "metadata": {},
   "source": [
    "Finally, models require the target variable to be of integer type, so let's assign 0 to No emotion, 1 to Negative emotion toward brand or product and 2 to Positive emotion."
   ]
  },
  {
   "cell_type": "code",
   "execution_count": 91,
   "metadata": {},
   "outputs": [],
   "source": [
    "def number_map(x):\n",
    "    if x == 'Positive emotion':\n",
    "        return 2\n",
    "    elif x == 'Negative emotion':\n",
    "        return 1\n",
    "    else:\n",
    "        return 0"
   ]
  },
  {
   "cell_type": "code",
   "execution_count": 92,
   "metadata": {},
   "outputs": [
    {
     "data": {
      "text/plain": [
       "Undefined    5397\n",
       "Apple        2311\n",
       "Google        840\n",
       "Name: Product, dtype: int64"
      ]
     },
     "execution_count": 92,
     "metadata": {},
     "output_type": "execute_result"
    }
   ],
   "source": [
    "df[\"Product\"].value_counts()"
   ]
  },
  {
   "cell_type": "markdown",
   "metadata": {},
   "source": [
    "DATA PREPROCESSING AND FEATURE ENGINEERING"
   ]
  },
  {
   "cell_type": "code",
   "execution_count": 93,
   "metadata": {},
   "outputs": [
    {
     "name": "stderr",
     "output_type": "stream",
     "text": [
      "C:\\Users\\Margaret Mitey\\AppData\\Local\\Temp\\ipykernel_11196\\3686377229.py:11: SettingWithCopyWarning: \n",
      "A value is trying to be set on a copy of a slice from a DataFrame.\n",
      "Try using .loc[row_indexer,col_indexer] = value instead\n",
      "\n",
      "See the caveats in the documentation: https://pandas.pydata.org/pandas-docs/stable/user_guide/indexing.html#returning-a-view-versus-a-copy\n",
      "  df['Tweet'] = df['Tweet'].apply(cleaner)\n"
     ]
    }
   ],
   "source": [
    "# function to clean text\n",
    "import re\n",
    "def cleaner(Tweet):\n",
    "    Tweet = re.sub(r'@[A-Za-z0-9]+','', str(Tweet)) # removes @\n",
    "    Tweet = re.sub(r'#', '', str(Tweet)) # removes hashtag\n",
    "    Tweet = re.sub(r'RT[\\s]+','', str(Tweet)) # removes RT\n",
    "    Tweet = re.sub(r'https?:\\/\\/\\S+', '', Tweet) # remove hyperlink in tweet\n",
    "    Tweet = re.sub(r'[^\\w\\s]', '', Tweet) # removes punctuations\n",
    "    #tweet = re.sub(r'[^a-zA-Z]','', tweet)\n",
    "    return Tweet\n",
    "df['Tweet'] = df['Tweet'].apply(cleaner)\n"
   ]
  },
  {
   "cell_type": "code",
   "execution_count": 94,
   "metadata": {},
   "outputs": [
    {
     "data": {
      "text/plain": [
       "0        I have a 3G iPhone After 3 hrs tweeting at RI...\n",
       "1        Know about   Awesome iPadiPhone app that youl...\n",
       "2        Can not wait for iPad 2 also They should sale...\n",
       "3        I hope this years festival isnt as crashy as ...\n",
       "4        great stuff on Fri SXSW Marissa Mayer Google ...\n",
       "                              ...                        \n",
       "8716                            Ipad everywhere SXSW link\n",
       "8717    Wave buzz We interrupt your regularly schedule...\n",
       "8718    Googles Zeiger a physician never reported pote...\n",
       "8719    Some Verizon iPhone customers complained their...\n",
       "8720       ϡ_ʋҋ__Google Tests Checkin Offers At SXSW link\n",
       "Name: Tweet, Length: 8548, dtype: object"
      ]
     },
     "execution_count": 94,
     "metadata": {},
     "output_type": "execute_result"
    }
   ],
   "source": [
    "df.Tweet"
   ]
  },
  {
   "cell_type": "code",
   "execution_count": 95,
   "metadata": {},
   "outputs": [
    {
     "name": "stderr",
     "output_type": "stream",
     "text": [
      "C:\\Users\\Margaret Mitey\\AppData\\Local\\Temp\\ipykernel_11196\\179663055.py:2: SettingWithCopyWarning: \n",
      "A value is trying to be set on a copy of a slice from a DataFrame.\n",
      "Try using .loc[row_indexer,col_indexer] = value instead\n",
      "\n",
      "See the caveats in the documentation: https://pandas.pydata.org/pandas-docs/stable/user_guide/indexing.html#returning-a-view-versus-a-copy\n",
      "  df['Tweet'] = df.Tweet.map(lambda x: re.sub('rt', \" \", x)) # Remove rt (retweet)\n",
      "C:\\Users\\Margaret Mitey\\AppData\\Local\\Temp\\ipykernel_11196\\179663055.py:3: SettingWithCopyWarning: \n",
      "A value is trying to be set on a copy of a slice from a DataFrame.\n",
      "Try using .loc[row_indexer,col_indexer] = value instead\n",
      "\n",
      "See the caveats in the documentation: https://pandas.pydata.org/pandas-docs/stable/user_guide/indexing.html#returning-a-view-versus-a-copy\n",
      "  df['Tweet'] = df.Tweet.map(lambda x: re.sub('link', \" \", x))# Remove link\n",
      "C:\\Users\\Margaret Mitey\\AppData\\Local\\Temp\\ipykernel_11196\\179663055.py:4: SettingWithCopyWarning: \n",
      "A value is trying to be set on a copy of a slice from a DataFrame.\n",
      "Try using .loc[row_indexer,col_indexer] = value instead\n",
      "\n",
      "See the caveats in the documentation: https://pandas.pydata.org/pandas-docs/stable/user_guide/indexing.html#returning-a-view-versus-a-copy\n",
      "  df['Tweet'] = df.Tweet.map(lambda x: re.sub('@', \" \", x)) # Remove @\n",
      "C:\\Users\\Margaret Mitey\\AppData\\Local\\Temp\\ipykernel_11196\\179663055.py:5: SettingWithCopyWarning: \n",
      "A value is trying to be set on a copy of a slice from a DataFrame.\n",
      "Try using .loc[row_indexer,col_indexer] = value instead\n",
      "\n",
      "See the caveats in the documentation: https://pandas.pydata.org/pandas-docs/stable/user_guide/indexing.html#returning-a-view-versus-a-copy\n",
      "  df['Tweet'] = df.Tweet.map(lambda x: re.sub('mention', \" \", x)) # Remove mention\n",
      "C:\\Users\\Margaret Mitey\\AppData\\Local\\Temp\\ipykernel_11196\\179663055.py:6: SettingWithCopyWarning: \n",
      "A value is trying to be set on a copy of a slice from a DataFrame.\n",
      "Try using .loc[row_indexer,col_indexer] = value instead\n",
      "\n",
      "See the caveats in the documentation: https://pandas.pydata.org/pandas-docs/stable/user_guide/indexing.html#returning-a-view-versus-a-copy\n",
      "  df['Tweet'] = df.Tweet.map(lambda x: re.sub('�+', \" \", x)) # remove � character\n"
     ]
    },
    {
     "data": {
      "text/plain": [
       "0        I have a 3G iPhone After 3 hrs tweeting at RI...\n",
       "1        Know about   Awesome iPadiPhone app that youl...\n",
       "2        Can not wait for iPad 2 also They should sale...\n",
       "3        I hope this years festival isnt as crashy as ...\n",
       "4        great stuff on Fri SXSW Marissa Mayer Google ...\n",
       "                              ...                        \n",
       "8716                               Ipad everywhere SXSW  \n",
       "8717    Wave buzz We interrupt your regularly schedule...\n",
       "8718    Googles Zeiger a physician never repo ed poten...\n",
       "8719    Some Verizon iPhone customers complained their...\n",
       "8720          ϡ_ʋҋ__Google Tests Checkin Offers At SXSW  \n",
       "Name: Tweet, Length: 8548, dtype: object"
      ]
     },
     "execution_count": 95,
     "metadata": {},
     "output_type": "execute_result"
    }
   ],
   "source": [
    "#Remove retweets, links and other characters still present\n",
    "df['Tweet'] = df.Tweet.map(lambda x: re.sub('rt', \" \", x)) # Remove rt (retweet)\n",
    "df['Tweet'] = df.Tweet.map(lambda x: re.sub('link', \" \", x))# Remove link\n",
    "df['Tweet'] = df.Tweet.map(lambda x: re.sub('@', \" \", x)) # Remove @\n",
    "df['Tweet'] = df.Tweet.map(lambda x: re.sub('mention', \" \", x)) # Remove mention \n",
    "df['Tweet'] = df.Tweet.map(lambda x: re.sub('�+', \" \", x)) # remove � character\n",
    "\n",
    "df.Tweet"
   ]
  },
  {
   "cell_type": "code",
   "execution_count": 101,
   "metadata": {},
   "outputs": [
    {
     "name": "stderr",
     "output_type": "stream",
     "text": [
      "[nltk_data] Downloading package omw-1.4 to C:\\Users\\Margaret\n",
      "[nltk_data]     Mitey\\AppData\\Roaming\\nltk_data...\n"
     ]
    },
    {
     "name": "stdout",
     "output_type": "stream",
     "text": [
      "['example', 'sentence', 'tokenization', 'lemmatization']\n"
     ]
    },
    {
     "name": "stderr",
     "output_type": "stream",
     "text": [
      "[nltk_data]   Package omw-1.4 is already up-to-date!\n"
     ]
    }
   ],
   "source": [
    "#Tokenizaton, Stopword removal and lemmatization of the tweets.\n",
    "import nltk\n",
    "nltk.download('omw-1.4')\n",
    "from nltk.tokenize import RegexpTokenizer\n",
    "from nltk.corpus import stopwords\n",
    "from nltk.stem.wordnet import WordNetLemmatizer\n",
    "from nltk.tokenize import RegexpTokenizer\n",
    "from nltk.corpus import stopwords\n",
    "from nltk.stem.wordnet import WordNetLemmatizer\n",
    "\n",
    "tokenizer = RegexpTokenizer(r\"(?u)\\w{3,}[a-zA-Z]\")\n",
    "stopwords_list = stopwords.words('english')\n",
    "lemmatizer = WordNetLemmatizer()\n",
    "\n",
    "def lemmatize_and_tokenize(text):\n",
    "    tokens = tokenizer.tokenize(text)\n",
    "    clean_list = [lemmatizer.lemmatize(token.lower()) for token in tokens if token.lower() not in stopwords_list]\n",
    "    return clean_list\n",
    "\n",
    "cleaned_tokens = lemmatize_and_tokenize(text)\n",
    "print(cleaned_tokens)\n",
    "\n"
   ]
  }
 ],
 "metadata": {
  "kernelspec": {
   "display_name": "base",
   "language": "python",
   "name": "python3"
  },
  "language_info": {
   "codemirror_mode": {
    "name": "ipython",
    "version": 3
   },
   "file_extension": ".py",
   "mimetype": "text/x-python",
   "name": "python",
   "nbconvert_exporter": "python",
   "pygments_lexer": "ipython3",
   "version": "3.9.13"
  },
  "orig_nbformat": 4
 },
 "nbformat": 4,
 "nbformat_minor": 2
}
